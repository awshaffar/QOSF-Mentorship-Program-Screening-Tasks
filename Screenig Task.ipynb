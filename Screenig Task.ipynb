{
 "cells": [
  {
   "attachments": {},
   "cell_type": "markdown",
   "metadata": {
    "slideshow": {
     "slide_type": "-"
    }
   },
   "source": [
    "# QOSF Mentorship Program Screening Tasks"
   ]
  },
  {
   "attachments": {},
   "cell_type": "markdown",
   "metadata": {},
   "source": [
    "## Task 1 find the largest number\n",
    "\n",
    "You have two integers, either positive or negative, and the challenge is to generate a quantum algorithm that returns which is the larger number. Consider an appropriate number of qubits and explain why your proposal is valid for all kinds of numbers in case \n"
   ]
  },
  {
   "cell_type": "code",
   "execution_count": 60,
   "metadata": {},
   "outputs": [],
   "source": [
    "from qiskit import QuantumCircuit, QuantumRegister, ClassicalRegister, Aer, execute\n",
    "\n",
    "def find_the_largest_number(number_1, number_2):\n",
    "    # Compute the number of qubits needed to represent the inputs\n",
    "    num_qubits = max(number_1.bit_length(), number_2.bit_length()) + 1\n",
    "\n",
    "    # Create quantum and classical registers\n",
    "    qreg = QuantumRegister(num_qubits)\n",
    "    creg = ClassicalRegister(1)\n",
    "    qc = QuantumCircuit(qreg, creg)\n",
    "\n",
    "    # Encode the numbers as binary in the qubits\n",
    "    for i, n in enumerate([number_1, number_2]):\n",
    "        for j, bit in enumerate(format(n, '0{}b'.format(num_qubits))):\n",
    "            if bit == '1':\n",
    "                qc.x(qreg[j])\n",
    "\n",
    "        # Apply controlled NOT gate to compare the two numbers\n",
    "        qc.cx(qreg[0], qreg[num_qubits-1])\n",
    "        for j in range(1, num_qubits-1):\n",
    "            qc.cx(qreg[j], qreg[num_qubits-1])\n",
    "        qc.x(qreg[num_qubits-1])\n",
    "\n",
    "        # Measure the output qubit and store the result in a classical register\n",
    "        qc.measure(qreg[num_qubits-1], creg[0])\n",
    "\n",
    "    # Execute the circuit and get the measurement results\n",
    "    backend = Aer.get_backend('qasm_simulator')\n",
    "    job = execute(qc, backend, shots=1)\n",
    "    result = job.result()\n",
    "    counts = result.get_counts(qc)\n",
    "\n",
    "    # Determine which number is larger based on the measurement results\n",
    "    if '0' in counts:\n",
    "        return str(number_2)\n",
    "    else:\n",
    "        return str(number_1)"
   ]
  },
  {
   "cell_type": "code",
   "execution_count": 67,
   "metadata": {},
   "outputs": [
    {
     "name": "stdout",
     "output_type": "stream",
     "text": [
      "10\n"
     ]
    }
   ],
   "source": [
    "A = find_the_largest_number(10,-1)\n",
    "print(A)"
   ]
  },
  {
   "attachments": {},
   "cell_type": "markdown",
   "metadata": {},
   "source": [
    "## Task 4 Random Circuits\n",
    "\n",
    "Design a function that generates a random quantum circuit by considering as parameters the number of qubits, the number of depths, and the base of gates to be used. You could only use the quantum gates of 1 and 2 qubits."
   ]
  },
  {
   "cell_type": "code",
   "execution_count": 2,
   "metadata": {},
   "outputs": [],
   "source": [
    "from qiskit import QuantumCircuit\n",
    "import random\n",
    "\n",
    "def random_circuit(num_qubits, depth, basis_gates):\n",
    "    qc = QuantumCircuit(num_qubits)\n",
    "\n",
    "    for d in range(depth):\n",
    "        for q in range(num_qubits):\n",
    "            gate = random.choice(basis_gates)\n",
    "            if gate == 'x':\n",
    "                qc.x(q)\n",
    "            elif gate == 'y':\n",
    "                qc.y(q)\n",
    "            elif gate == 'z':\n",
    "                qc.z(q)\n",
    "            elif gate == 'h':\n",
    "                qc.h(q)\n",
    "            else:\n",
    "                q2 = random.choice([i for i in range(num_qubits) if i != q])\n",
    "                if gate == 'cx':\n",
    "                    qc.cx(q, q2)\n",
    "                elif gate == 'cy':\n",
    "                    qc.cy(q, q2)\n",
    "                elif gate == 'cz':\n",
    "                    qc.cz(q, q2)\n",
    "                elif gate == 'swap':\n",
    "                    qc.swap(q, q2)\n",
    "\n",
    "    return qc"
   ]
  },
  {
   "cell_type": "code",
   "execution_count": 3,
   "metadata": {},
   "outputs": [
    {
     "name": "stdout",
     "output_type": "stream",
     "text": [
      "        ┌───┐           ┌───┐   ┌───┐┌───┐\n",
      "q_0: ─■─┤ H ├─────────X─┤ H ├─X─┤ X ├┤ X ├\n",
      "      │ ├───┤   ┌───┐ │ ├───┤ │ └───┘└─┬─┘\n",
      "q_1: ─■─┤ H ├─■─┤ Y ├─┼─┤ X ├─┼────────■──\n",
      "        └───┘ │ └───┘ │ └───┘ │ ┌───┐     \n",
      "q_2: ─────────■───────X───────X─┤ Y ├─────\n",
      "                                └───┘     \n"
     ]
    }
   ],
   "source": [
    "qc = random_circuit(3, 4, ['x', 'y', 'z', 'h', 'cx', 'cy', 'cz', 'swap'])\n",
    "print(qc)"
   ]
  }
 ],
 "metadata": {
  "kernelspec": {
   "display_name": "qc",
   "language": "python",
   "name": "python3"
  },
  "language_info": {
   "codemirror_mode": {
    "name": "ipython",
    "version": 3
   },
   "file_extension": ".py",
   "mimetype": "text/x-python",
   "name": "python",
   "nbconvert_exporter": "python",
   "pygments_lexer": "ipython3",
   "version": "3.10.8"
  },
  "vscode": {
   "interpreter": {
    "hash": "168ecded67a13d2a651f92ab68f47c8f8a04b0d304e9489a7d3ae7c6da1b7628"
   }
  }
 },
 "nbformat": 4,
 "nbformat_minor": 2
}
