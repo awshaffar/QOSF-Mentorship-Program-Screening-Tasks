{
 "cells": [
  {
   "attachments": {},
   "cell_type": "markdown",
   "metadata": {
    "slideshow": {
     "slide_type": "-"
    }
   },
   "source": [
    "# QOSF Mentorship Program Screening Tasks"
   ]
  },
  {
   "cell_type": "markdown",
   "metadata": {},
   "source": [
    "## Task 3 ZNE"
   ]
  },
  {
   "cell_type": "markdown",
   "metadata": {},
   "source": [
    "Zero-noise extrapolation (ZNE) is a noise mitigation technique. It works by intentionally scaling the noise of a quantum circuit to then extrapolate the zero-noise limit of an observable of interest. In this task, you will build a simple ZNE function from scratch:\n",
    "\n",
    "1. Build a simple noise model with depolarizing noise \n",
    "2. Create different circuits to test your noise models and choose the observable to measure \n",
    "3. Apply the unitary folding method. \n",
    "4. Apply the extrapolation method to get the zero-noise limit. Different extrapolation methods achieve different results, such as Linear, polynomial, and exponential.\n",
    "5. Compare mitigated and unmitigated results \n",
    "6. Bonus: Run your ZNE function in real quantum hardware through the [IBM Quantum Service](https://www.ibm.com/quantum)\n",
    "\n",
    "Check the [Mitiq documentation](https://mitiq.readthedocs.io/en/stable/guide/zne-5-theory.html) for references. You are not allowed to use the functions from Mitiq or any other frameworks where ZNE is already implemented. \n"
   ]
  },
  {
   "cell_type": "markdown",
   "metadata": {},
   "source": [
    "### 1. Build a simple noise model with depolarizing noise "
   ]
  },
  {
   "cell_type": "code",
   "execution_count": 1,
   "metadata": {},
   "outputs": [],
   "source": [
    "import numpy as np\n",
    "import random\n",
    "\n",
    "def apply_depolarizing_noise(qc, noise_level):\n",
    "    \"\"\"\n",
    "    Apply depolarizing noise to a quantum circuit.\n",
    "    \n",
    "    Args:\n",
    "        qc (QuantumCircuit): The quantum circuit to apply noise to.\n",
    "        noise_level (float): The probability of a depolarizing error occurring.\n",
    "    \"\"\"\n",
    "    for qubit in range(qc.num_qubits):\n",
    "        if random.random() < noise_level:\n",
    "            qc.x(qubit)  # Example noise operation (can be adjusted based on desired noise model)\n"
   ]
  },
  {
   "cell_type": "markdown",
   "metadata": {},
   "source": [
    "### 2. Create different circuits to test your noise models and choose the observable to measure "
   ]
  },
  {
   "cell_type": "code",
   "execution_count": 25,
   "metadata": {},
   "outputs": [],
   "source": [
    "from qiskit import QuantumCircuit, Aer, transpile, assemble\n",
    "\n",
    "def create_quantum_circuit(num_qubits,noise_level):\n",
    "    \"\"\"\n",
    "    Create a simple quantum circuit with specified number of qubits.\n",
    "    \n",
    "    Args:\n",
    "        num_qubits (int): Number of qubits in the circuit.\n",
    "        \n",
    "    Returns:\n",
    "        QuantumCircuit: The created quantum circuit.\n",
    "    \"\"\"\n",
    "    qc = QuantumCircuit(num_qubits)\n",
    "    # qc.h(range(num_qubits))  # Apply Hadamard gate to all qubits (example)\n",
    "    apply_depolarizing_noise(qc=qc,noise_level=noise_level)\n",
    "    qc.measure_all()  # Measure all qubits\n",
    "    \n",
    "    return qc"
   ]
  },
  {
   "cell_type": "code",
   "execution_count": 26,
   "metadata": {},
   "outputs": [
    {
     "data": {
      "text/html": [
       "<pre style=\"word-wrap: normal;white-space: pre;background: #fff0;line-height: 1.1;font-family: &quot;Courier New&quot;,Courier,monospace\">         ┌───┐ ░ ┌─┐                           \n",
       "    q_0: ┤ X ├─░─┤M├───────────────────────────\n",
       "         └───┘ ░ └╥┘┌─┐                        \n",
       "    q_1: ──────░──╫─┤M├────────────────────────\n",
       "         ┌───┐ ░  ║ └╥┘┌─┐                     \n",
       "    q_2: ┤ X ├─░──╫──╫─┤M├─────────────────────\n",
       "         ├───┤ ░  ║  ║ └╥┘┌─┐                  \n",
       "    q_3: ┤ X ├─░──╫──╫──╫─┤M├──────────────────\n",
       "         ├───┤ ░  ║  ║  ║ └╥┘┌─┐               \n",
       "    q_4: ┤ X ├─░──╫──╫──╫──╫─┤M├───────────────\n",
       "         └───┘ ░  ║  ║  ║  ║ └╥┘┌─┐            \n",
       "    q_5: ──────░──╫──╫──╫──╫──╫─┤M├────────────\n",
       "               ░  ║  ║  ║  ║  ║ └╥┘┌─┐         \n",
       "    q_6: ──────░──╫──╫──╫──╫──╫──╫─┤M├─────────\n",
       "               ░  ║  ║  ║  ║  ║  ║ └╥┘┌─┐      \n",
       "    q_7: ──────░──╫──╫──╫──╫──╫──╫──╫─┤M├──────\n",
       "               ░  ║  ║  ║  ║  ║  ║  ║ └╥┘┌─┐   \n",
       "    q_8: ──────░──╫──╫──╫──╫──╫──╫──╫──╫─┤M├───\n",
       "               ░  ║  ║  ║  ║  ║  ║  ║  ║ └╥┘┌─┐\n",
       "    q_9: ──────░──╫──╫──╫──╫──╫──╫──╫──╫──╫─┤M├\n",
       "               ░  ║  ║  ║  ║  ║  ║  ║  ║  ║ └╥┘\n",
       "meas: 10/═════════╩══╩══╩══╩══╩══╩══╩══╩══╩══╩═\n",
       "                  0  1  2  3  4  5  6  7  8  9 </pre>"
      ],
      "text/plain": [
       "         ┌───┐ ░ ┌─┐                           \n",
       "    q_0: ┤ X ├─░─┤M├───────────────────────────\n",
       "         └───┘ ░ └╥┘┌─┐                        \n",
       "    q_1: ──────░──╫─┤M├────────────────────────\n",
       "         ┌───┐ ░  ║ └╥┘┌─┐                     \n",
       "    q_2: ┤ X ├─░──╫──╫─┤M├─────────────────────\n",
       "         ├───┤ ░  ║  ║ └╥┘┌─┐                  \n",
       "    q_3: ┤ X ├─░──╫──╫──╫─┤M├──────────────────\n",
       "         ├───┤ ░  ║  ║  ║ └╥┘┌─┐               \n",
       "    q_4: ┤ X ├─░──╫──╫──╫──╫─┤M├───────────────\n",
       "         └───┘ ░  ║  ║  ║  ║ └╥┘┌─┐            \n",
       "    q_5: ──────░──╫──╫──╫──╫──╫─┤M├────────────\n",
       "               ░  ║  ║  ║  ║  ║ └╥┘┌─┐         \n",
       "    q_6: ──────░──╫──╫──╫──╫──╫──╫─┤M├─────────\n",
       "               ░  ║  ║  ║  ║  ║  ║ └╥┘┌─┐      \n",
       "    q_7: ──────░──╫──╫──╫──╫──╫──╫──╫─┤M├──────\n",
       "               ░  ║  ║  ║  ║  ║  ║  ║ └╥┘┌─┐   \n",
       "    q_8: ──────░──╫──╫──╫──╫──╫──╫──╫──╫─┤M├───\n",
       "               ░  ║  ║  ║  ║  ║  ║  ║  ║ └╥┘┌─┐\n",
       "    q_9: ──────░──╫──╫──╫──╫──╫──╫──╫──╫──╫─┤M├\n",
       "               ░  ║  ║  ║  ║  ║  ║  ║  ║  ║ └╥┘\n",
       "meas: 10/═════════╩══╩══╩══╩══╩══╩══╩══╩══╩══╩═\n",
       "                  0  1  2  3  4  5  6  7  8  9 "
      ]
     },
     "execution_count": 26,
     "metadata": {},
     "output_type": "execute_result"
    }
   ],
   "source": [
    "qc = create_quantum_circuit(10,0.5)\n",
    "qc.draw()"
   ]
  },
  {
   "cell_type": "code",
   "execution_count": 15,
   "metadata": {},
   "outputs": [],
   "source": [
    "def extrapolate_zero_noise_limit(results, noise_levels, extrapolation_method='linear'):\n",
    "    \"\"\"\n",
    "    Apply an extrapolation method to estimate the zero-noise limit.\n",
    "    \n",
    "    Args:\n",
    "        results (list): List of results obtained from running circuits with different noise levels.\n",
    "        noise_levels (list): List of noise levels corresponding to the results.\n",
    "        extrapolation_method (str): The extrapolation method to use ('linear', 'polynomial', 'exponential').\n",
    "        \n",
    "    Returns:\n",
    "        float: Estimated zero-noise limit.\n",
    "    \"\"\"\n",
    "    if extrapolation_method == 'linear':\n",
    "        # Implement linear extrapolation method\n",
    "        pass\n",
    "    elif extrapolation_method == 'polynomial':\n",
    "        # Implement polynomial extrapolation method\n",
    "        pass\n",
    "    elif extrapolation_method == 'exponential':\n",
    "        # Implement exponential extrapolation method\n",
    "        pass\n",
    "    else:\n",
    "        raise ValueError(\"Invalid extrapolation method. Choose 'linear', 'polynomial', or 'exponential'.\")"
   ]
  },
  {
   "cell_type": "code",
   "execution_count": 4,
   "metadata": {},
   "outputs": [],
   "source": [
    "def compare_results(unmitigated_result, mitigated_result):\n",
    "    \"\"\"\n",
    "    Compare unmitigated and mitigated results.\n",
    "    \n",
    "    Args:\n",
    "        unmitigated_result (float): Result obtained without noise mitigation.\n",
    "        mitigated_result (float): Result obtained with noise mitigation.\n",
    "        \n",
    "    Returns:\n",
    "        None\n",
    "    \"\"\"\n",
    "    print(\"Unmitigated result:\", unmitigated_result)\n",
    "    print(\"Mitigated result:\", mitigated_result)\n"
   ]
  },
  {
   "cell_type": "code",
   "execution_count": null,
   "metadata": {},
   "outputs": [],
   "source": []
  }
 ],
 "metadata": {
  "kernelspec": {
   "display_name": "qc",
   "language": "python",
   "name": "python3"
  },
  "language_info": {
   "codemirror_mode": {
    "name": "ipython",
    "version": 3
   },
   "file_extension": ".py",
   "mimetype": "text/x-python",
   "name": "python",
   "nbconvert_exporter": "python",
   "pygments_lexer": "ipython3",
   "version": "3.11.6"
  },
  "vscode": {
   "interpreter": {
    "hash": "168ecded67a13d2a651f92ab68f47c8f8a04b0d304e9489a7d3ae7c6da1b7628"
   }
  }
 },
 "nbformat": 4,
 "nbformat_minor": 2
}
