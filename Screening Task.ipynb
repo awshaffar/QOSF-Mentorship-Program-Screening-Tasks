{
 "cells": [
  {
   "attachments": {},
   "cell_type": "markdown",
   "metadata": {
    "slideshow": {
     "slide_type": "-"
    }
   },
   "source": [
    "# QOSF Mentorship Program Screening Tasks"
   ]
  },
  {
   "attachments": {},
   "cell_type": "markdown",
   "metadata": {},
   "source": [
    "## Task 4 Random Circuits\n",
    "\n",
    "Design a function that generates a random quantum circuit by considering as parameters the number of qubits, the number of depths, and the base of gates to be used. You could only use the quantum gates of 1 and 2 qubits."
   ]
  },
  {
   "cell_type": "code",
   "execution_count": 18,
   "metadata": {},
   "outputs": [],
   "source": [
    "from qiskit import QuantumCircuit\n",
    "import random\n",
    "\n",
    "def random_circuit(num_qubits, depth, basis_gates):\n",
    "    qc = QuantumCircuit(num_qubits)\n",
    "\n",
    "    for d in range(depth):\n",
    "        for q in range(num_qubits):\n",
    "            gate = random.choice(basis_gates)\n",
    "            if gate == 'x':\n",
    "                qc.x(q)\n",
    "            elif gate == 'y':\n",
    "                qc.y(q)\n",
    "            elif gate == 'z':\n",
    "                qc.z(q)\n",
    "            elif gate == 'h':\n",
    "                qc.h(q)\n",
    "            elif gate == 's':\n",
    "                qc.s(q)\n",
    "            elif gate == 'sdg':\n",
    "                qc.sdg(q)\n",
    "            elif gate == 't':\n",
    "                qc.t(q)\n",
    "            elif gate == 'tdg':\n",
    "                qc.tdg(q)\n",
    "            else:\n",
    "                q2 = random.choice([i for i in range(num_qubits) if i != q])\n",
    "                if gate == 'cx':\n",
    "                    qc.cx(q, q2)\n",
    "                elif gate == 'cy':\n",
    "                    qc.cy(q, q2)\n",
    "                elif gate == 'cz':\n",
    "                    qc.cz(q, q2)\n",
    "                elif gate == 'swap':\n",
    "                    qc.swap(q, q2)\n",
    "\n",
    "    return qc"
   ]
  },
  {
   "cell_type": "code",
   "execution_count": 19,
   "metadata": {},
   "outputs": [
    {
     "name": "stdout",
     "output_type": "stream",
     "text": [
      "     ┌───┐┌───┐┌───┐┌───┐   \n",
      "q_0: ┤ Z ├┤ Z ├┤ Z ├┤ Y ├─■─\n",
      "     ├───┤├───┤├───┤└───┘ │ \n",
      "q_1: ┤ X ├┤ Y ├┤ Y ├──────■─\n",
      "     └───┘└───┘└───┘        \n"
     ]
    }
   ],
   "source": [
    "qc = random_circuit(2, 4, ['x', 'y', 'z', 'h', 'cx', 'cy', 'cz', 'swap'])\n",
    "print(qc)"
   ]
  },
  {
   "cell_type": "code",
   "execution_count": null,
   "metadata": {},
   "outputs": [],
   "source": []
  }
 ],
 "metadata": {
  "kernelspec": {
   "display_name": "qc",
   "language": "python",
   "name": "python3"
  },
  "language_info": {
   "codemirror_mode": {
    "name": "ipython",
    "version": 3
   },
   "file_extension": ".py",
   "mimetype": "text/x-python",
   "name": "python",
   "nbconvert_exporter": "python",
   "pygments_lexer": "ipython3",
   "version": "3.10.8"
  },
  "vscode": {
   "interpreter": {
    "hash": "168ecded67a13d2a651f92ab68f47c8f8a04b0d304e9489a7d3ae7c6da1b7628"
   }
  }
 },
 "nbformat": 4,
 "nbformat_minor": 2
}
