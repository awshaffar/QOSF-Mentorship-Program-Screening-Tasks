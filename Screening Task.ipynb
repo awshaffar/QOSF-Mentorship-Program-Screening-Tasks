{
 "cells": [
  {
   "attachments": {},
   "cell_type": "markdown",
   "metadata": {
    "slideshow": {
     "slide_type": "-"
    }
   },
   "source": [
    "# QOSF Mentorship Program Screening Tasks"
   ]
  },
  {
   "cell_type": "markdown",
   "metadata": {},
   "source": [
    "## Task 3 ZNE"
   ]
  },
  {
   "cell_type": "markdown",
   "metadata": {},
   "source": [
    "Zero-noise extrapolation (ZNE) is a noise mitigation technique. It works by intentionally scaling the noise of a quantum circuit to then extrapolate the zero-noise limit of an observable of interest. In this task, you will build a simple ZNE function from scratch:\n",
    "\n",
    "1. Build a simple noise model with depolarizing noise \n",
    "2. Create different circuits to test your noise models and choose the observable to measure \n",
    "3. Apply the unitary folding method. \n",
    "4. Apply the extrapolation method to get the zero-noise limit. Different extrapolation methods achieve different results, such as Linear, polynomial, and exponential.\n",
    "5. Compare mitigated and unmitigated results \n",
    "6. Bonus: Run your ZNE function in real quantum hardware through the [IBM Quantum Service](https://www.ibm.com/quantum)\n",
    "\n",
    "Check the [Mitiq documentation](https://mitiq.readthedocs.io/en/stable/guide/zne-5-theory.html) for references. You are not allowed to use the functions from Mitiq or any other frameworks where ZNE is already implemented. \n"
   ]
  },
  {
   "cell_type": "code",
   "execution_count": 1,
   "metadata": {},
   "outputs": [],
   "source": [
    "from qiskit import QuantumCircuit, transpile\n",
    "from qiskit_ibm_runtime import QiskitRuntimeService\n",
    "from qiskit_aer import AerSimulator\n",
    "from qiskit_aer.noise import (\n",
    "    NoiseModel,\n",
    "    QuantumError,\n",
    "    ReadoutError,\n",
    "    depolarizing_error,\n",
    "    pauli_error,\n",
    "    thermal_relaxation_error,\n",
    ")\n",
    "from qiskit.visualization import plot_histogram\n",
    "\n",
    "import numpy as np\n",
    "import matplotlib.pyplot as plt\n",
    "from scipy.optimize import curve_fit"
   ]
  },
  {
   "cell_type": "code",
   "execution_count": 26,
   "metadata": {},
   "outputs": [],
   "source": [
    "# Step 1: Build a simple noise model with depolarizing noise\n",
    "def create_noise_model(depolarizing_error_prob):\n",
    "    noise_model = NoiseModel()\n",
    "    # Depolarizing error for single-qubit gates\n",
    "    depolarizing_error_1q = depolarizing_error(depolarizing_error_prob, 1)\n",
    "    # Depolarizing error for two-qubit gates (cx)\n",
    "    depolarizing_error_2q = depolarizing_error(depolarizing_error_prob * 2, 2)\n",
    "    \n",
    "    noise_model.add_all_qubit_quantum_error(depolarizing_error_1q, ['u1', 'u2', 'u3'])\n",
    "    noise_model.add_all_qubit_quantum_error(depolarizing_error_2q, ['cx'])\n",
    "    \n",
    "    return noise_model\n",
    "\n",
    "# Step 2: Create a simple quantum circuit to test the noise model\n",
    "def create_bell_state_circuit():\n",
    "    qc = QuantumCircuit(2, 2)\n",
    "    qc.h(0)\n",
    "    qc.cx(0, 1)\n",
    "    # qc.measure([0, 1], [0, 1])\n",
    "    return qc\n",
    "\n",
    "# Step 3: Apply the unitary folding method - here we'll define a function to fold a circuit\n",
    "def fold_circuit(circuit, fold_factor):\n",
    "    folded_circuit = circuit.copy()\n",
    "    for _ in range(fold_factor):\n",
    "        for gate in reversed(circuit.data):\n",
    "            folded_circuit.data.append(gate)\n",
    "        for gate in circuit.data:\n",
    "            folded_circuit.data.append(gate)\n",
    "    return folded_circuit\n",
    "\n",
    "def execute_circuits_with_noise(circuit, backend, noise_model, fold_factors):\n",
    "    results = []\n",
    "    for fold_factor in fold_factors:\n",
    "        # Apply folding\n",
    "        folded_circuit = fold_circuit(circuit, fold_factor)\n",
    "        folded_circuit.measure([0, 1], [0, 1])\n",
    "        # Execute the circuit on the backend with the noise model\n",
    "        new_circuit = transpile(folded_circuit, backend)\n",
    "        job = backend.run(new_circuit,noise_model=noise_model)\n",
    "        # job = execute(folded_circuit, backend, noise_model=noise_model)\n",
    "        result = job.result().get_counts(folded_circuit)\n",
    "        results.append(result)\n",
    "    return results\n",
    "\n",
    "def linear_extrapolation(x, y):\n",
    "    return np.polyfit(x, y, 1)\n",
    "\n",
    "def exponential_extrapolation(x, y):\n",
    "    fit_func = lambda x, a, b: a * np.exp(b * x)\n",
    "    params, _ = curve_fit(fit_func, x, y)\n",
    "    return params\n"
   ]
  },
  {
   "cell_type": "code",
   "execution_count": 27,
   "metadata": {},
   "outputs": [],
   "source": [
    "# Test the noise model and circuit creation\n",
    "noise_model = create_noise_model(0.01)  # Depolarizing error probability\n",
    "qc = create_bell_state_circuit()"
   ]
  },
  {
   "cell_type": "code",
   "execution_count": 18,
   "metadata": {},
   "outputs": [
    {
     "data": {
      "text/plain": [
       "2"
      ]
     },
     "execution_count": 18,
     "metadata": {},
     "output_type": "execute_result"
    }
   ],
   "source": []
  },
  {
   "cell_type": "code",
   "execution_count": 21,
   "metadata": {},
   "outputs": [
    {
     "name": "stdout",
     "output_type": "stream",
     "text": [
      "Original Quantum Circuit:\n",
      "     ┌───┐     \n",
      "q_0: ┤ H ├──■──\n",
      "     └───┘┌─┴─┐\n",
      "q_1: ─────┤ X ├\n",
      "          └───┘\n",
      "c: 2/══════════\n",
      "               \n"
     ]
    }
   ],
   "source": [
    "print(\"Original Quantum Circuit:\")\n",
    "print(qc)"
   ]
  },
  {
   "cell_type": "code",
   "execution_count": 23,
   "metadata": {},
   "outputs": [
    {
     "name": "stdout",
     "output_type": "stream",
     "text": [
      "\n",
      "Folded Quantum Circuit (Factor 1):\n",
      "     ┌───┐          ┌───┐┌───┐     \n",
      "q_0: ┤ H ├──■────■──┤ H ├┤ H ├──■──\n",
      "     └───┘┌─┴─┐┌─┴─┐└───┘└───┘┌─┴─┐\n",
      "q_1: ─────┤ X ├┤ X ├──────────┤ X ├\n",
      "          └───┘└───┘          └───┘\n",
      "c: 2/══════════════════════════════\n",
      "                                   \n"
     ]
    }
   ],
   "source": [
    "folded_qc = fold_circuit(qc, 1)\n",
    "print(\"\\nFolded Quantum Circuit (Factor 1):\")\n",
    "print(folded_qc)"
   ]
  },
  {
   "cell_type": "code",
   "execution_count": 31,
   "metadata": {},
   "outputs": [],
   "source": [
    "service = QiskitRuntimeService(\n",
    "    channel='ibm_quantum',\n",
    "    instance='ibm-q-skku/kyunghee-univers/kh-graduate',\n",
    "    token='a31caad39519f6f302e0c199c269fdf896dfd354849c28e42091c464a09318abb156bb93cb5e1f73ef095093072d01ade10d5136a7aeebf5c00a3d769a1fccac'\n",
    ")\n",
    "backend = service.backend(\"ibmq_qasm_simulator\")\n",
    "# Example usage with linear extrapolation\n",
    "fold_factors = [0, 1, 2, 3, 4]  # Original and 3 levels of folding\n",
    "results = execute_circuits_with_noise(qc, backend, noise_model, fold_factors)\n",
    "# Assume 'results' is processed to extract expectation values as 'expectation_vals'\n",
    "# x_vals would be your fold_factors, and y_vals would be your 'expectation_vals'\n",
    "# linear_params = linear_extrapolation(x_vals, y_vals)"
   ]
  },
  {
   "cell_type": "code",
   "execution_count": 32,
   "metadata": {},
   "outputs": [
    {
     "name": "stdout",
     "output_type": "stream",
     "text": [
      "Linear Extrapolation Parameters: slope = 0.0015000000000000068, intercept = 0.4999\n",
      "Extrapolated Zero-Noise Probability for '00' outcome: 0.4999\n"
     ]
    }
   ],
   "source": [
    "# Step 1: Extract the probabilities of the '00' outcome\n",
    "probabilities = [counts['00'] / sum(counts.values()) for counts in results]\n",
    "\n",
    "# Step 2: Perform Linear Extrapolation\n",
    "# Here we use numpy's polyfit to fit a linear model (degree = 1) to the data\n",
    "linear_params = linear_extrapolation(fold_factors, probabilities)\n",
    "\n",
    "# The linear_params contains two values: [slope, intercept]\n",
    "slope, intercept = linear_params\n",
    "\n",
    "# Extrapolate to zero noise\n",
    "zero_noise_prob = intercept  # Since at zero noise, the fold factor is 0, and thus y = intercept\n",
    "\n",
    "print(f\"Linear Extrapolation Parameters: slope = {slope}, intercept = {intercept}\")\n",
    "print(f\"Extrapolated Zero-Noise Probability for '00' outcome: {zero_noise_prob}\")"
   ]
  },
  {
   "cell_type": "code",
   "execution_count": null,
   "metadata": {},
   "outputs": [],
   "source": []
  }
 ],
 "metadata": {
  "kernelspec": {
   "display_name": "qc",
   "language": "python",
   "name": "python3"
  },
  "language_info": {
   "codemirror_mode": {
    "name": "ipython",
    "version": 3
   },
   "file_extension": ".py",
   "mimetype": "text/x-python",
   "name": "python",
   "nbconvert_exporter": "python",
   "pygments_lexer": "ipython3",
   "version": "3.11.7"
  },
  "vscode": {
   "interpreter": {
    "hash": "168ecded67a13d2a651f92ab68f47c8f8a04b0d304e9489a7d3ae7c6da1b7628"
   }
  }
 },
 "nbformat": 4,
 "nbformat_minor": 2
}
