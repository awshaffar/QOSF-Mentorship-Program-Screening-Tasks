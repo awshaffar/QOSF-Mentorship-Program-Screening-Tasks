{
 "cells": [
  {
   "attachments": {},
   "cell_type": "markdown",
   "metadata": {
    "slideshow": {
     "slide_type": "-"
    }
   },
   "source": [
    "# QOSF Mentorship Program Screening Tasks"
   ]
  },
  {
   "cell_type": "markdown",
   "metadata": {},
   "source": [
    "## Task 3 ZNE"
   ]
  },
  {
   "cell_type": "markdown",
   "metadata": {},
   "source": [
    "Zero-noise extrapolation (ZNE) is a noise mitigation technique. It works by intentionally scaling the noise of a quantum circuit to then extrapolate the zero-noise limit of an observable of interest. In this task, you will build a simple ZNE function from scratch:\n",
    "\n",
    "1. Build a simple noise model with depolarizing noise \n",
    "2. Create different circuits to test your noise models and choose the observable to measure \n",
    "3. Apply the unitary folding method. \n",
    "4. Apply the extrapolation method to get the zero-noise limit. Different extrapolation methods achieve different results, such as Linear, polynomial, and exponential.\n",
    "5. Compare mitigated and unmitigated results \n",
    "6. Bonus: Run your ZNE function in real quantum hardware through the [IBM Quantum Service](https://www.ibm.com/quantum)\n",
    "\n",
    "Check the [Mitiq documentation](https://mitiq.readthedocs.io/en/stable/guide/zne-5-theory.html) for references. You are not allowed to use the functions from Mitiq or any other frameworks where ZNE is already implemented. \n"
   ]
  },
  {
   "cell_type": "code",
   "execution_count": 1,
   "metadata": {},
   "outputs": [],
   "source": [
    "from qiskit import QuantumCircuit, transpile\n",
    "from qiskit_ibm_runtime import QiskitRuntimeService\n",
    "from qiskit_aer import AerSimulator\n",
    "from qiskit_aer.noise import (\n",
    "    NoiseModel,\n",
    "    QuantumError,\n",
    "    ReadoutError,\n",
    "    depolarizing_error,\n",
    "    pauli_error,\n",
    "    thermal_relaxation_error,\n",
    ")\n",
    "from qiskit.visualization import plot_histogram\n",
    "\n",
    "import numpy as np\n",
    "import matplotlib.pyplot as plt\n",
    "from scipy.optimize import curve_fit"
   ]
  },
  {
   "cell_type": "code",
   "execution_count": 134,
   "metadata": {},
   "outputs": [],
   "source": [
    "# Step 1: Build a simple noise model with depolarizing noise\n",
    "def create_noise_model(depolarizing_error_prob):\n",
    "    noise_model = NoiseModel()\n",
    "    # Depolarizing error for single-qubit gates\n",
    "    depolarizing_error_1q = depolarizing_error(depolarizing_error_prob, 1)\n",
    "    # Depolarizing error for two-qubit gates (cx)\n",
    "    depolarizing_error_2q = depolarizing_error(depolarizing_error_prob * 2, 2)\n",
    "    \n",
    "    noise_model.add_all_qubit_quantum_error(depolarizing_error_1q, ['u1', 'u2', 'u3'])\n",
    "    noise_model.add_all_qubit_quantum_error(depolarizing_error_2q, ['cx'])\n",
    "    \n",
    "    return noise_model\n",
    "\n",
    "# Step 2: Create a simple quantum circuit to test the noise model\n",
    "def create_bell_state_circuit():\n",
    "    qc = QuantumCircuit(2, 2)\n",
    "    qc.h(0)\n",
    "    qc.cx(0, 1)\n",
    "    return qc\n",
    "\n",
    "# Step 3: Apply the unitary folding method - here we'll define a function to fold a circuit\n",
    "def fold_circuit(circuit, fold_factor):\n",
    "    folded_circuit = circuit.copy()\n",
    "    for _ in range(fold_factor):\n",
    "        for gate in reversed(circuit.data):\n",
    "            if gate.operation.name != 'measure':\n",
    "                folded_circuit.data.append(gate)\n",
    "        for gate in circuit.data:\n",
    "            if gate.operation.name != 'measure':\n",
    "                folded_circuit.data.append(gate)\n",
    "    for n in range(circuit.num_qubits):\n",
    "        folded_circuit.measure(n,n)\n",
    "    return folded_circuit\n",
    "\n",
    "def execute_circuits_with_noise(circuit, backend, noise_model):\n",
    "    # Execute the circuit on the backend with the noise model\n",
    "    new_circuit = transpile(circuit, backend)\n",
    "    job = backend.run(new_circuit,noise_model=noise_model, shots=2048)\n",
    "    result = job.result().get_counts()\n",
    "    return result\n",
    "\n",
    "def execute_circuits(circuit, backend):\n",
    "    # Execute the circuit on the backend in ideal case\n",
    "    new_circuit = transpile(circuit, backend)\n",
    "    job = backend.run(new_circuit, shots=2048)\n",
    "    result = job.result().get_counts()\n",
    "    return result\n",
    "\n",
    "def extrapolate_zero_noise(fold_factors, results, extrapolation_method):\n",
    "    # Define extrapolation function based on the chosen method\n",
    "    if extrapolation_method == 'linear':\n",
    "        def extrapolation_func(x, a, b):\n",
    "            return a * x + b\n",
    "    elif extrapolation_method == 'polynomial':\n",
    "        def extrapolation_func(x, a, b, c):\n",
    "            return a * x**2 + b * x + c\n",
    "    elif extrapolation_method == 'exponential':\n",
    "        def extrapolation_func(x, a, b):\n",
    "            return a * np.exp(b * x)\n",
    "    zero_noise_limits = {}\n",
    "    x = fold_factors\n",
    "    for key, value in results.items():\n",
    "        y = value\n",
    "        # Fit the data to the extrapolation function\n",
    "        popt, _ = curve_fit(extrapolation_func, x, y)\n",
    "\n",
    "        # Extrapolate to zero noise\n",
    "        zero_noise_limit = extrapolation_func(0, *popt)\n",
    "        zero_noise_limits[key] = zero_noise_limit\n",
    "    return zero_noise_limits\n",
    "\n",
    "def probabilities_measure(results):\n",
    "    combined_dict = {}\n",
    "    # Iterate through each dictionary in the list\n",
    "    for d in results:\n",
    "        for key, value in d.items():\n",
    "            # If the key is already in the combined_dict, append the value to its tuple\n",
    "            if key in combined_dict:\n",
    "                combined_dict[key] += [value,]\n",
    "            # Otherwise, create a new tuple with the value\n",
    "            else:\n",
    "                combined_dict[key] = [value,]\n",
    "\n",
    "    probabilities = {key: list(value / 2048 for value in values) for key, values in combined_dict.items()}\n",
    "    return probabilities"
   ]
  },
  {
   "cell_type": "code",
   "execution_count": 90,
   "metadata": {},
   "outputs": [],
   "source": [
    "# Test the noise model and circuit creation\n",
    "noise_model = create_noise_model(0.5)  # Depolarizing error probability\n",
    "qc = create_bell_state_circuit()"
   ]
  },
  {
   "cell_type": "code",
   "execution_count": 154,
   "metadata": {},
   "outputs": [],
   "source": [
    "def run_zne(qc, backend, noise_model, fold_factors, extrapolation_method='linear'):\n",
    "    noisy_results = []\n",
    "    for fold_factor in fold_factors:\n",
    "        folded_circuit = fold_circuit(qc,fold_factor)\n",
    "        noisy_result = execute_circuits_with_noise(folded_circuit, backend, noise_model)\n",
    "        noisy_results.append(noisy_result)\n",
    "    prob_noisy = probabilities_measure(noisy_results)\n",
    "    zero_noise_limits = extrapolate_zero_noise(fold_factors, prob_noisy, 'exponential')\n",
    "    # for n in range(qc.num_qubits):\n",
    "    #     qc.measure(n,n)\n",
    "    # ideal_result =[execute_circuits(qc,backend)]\n",
    "    # prob_ideal = probabilities_measure(ideal_result)\n",
    "    \n",
    "    return zero_noise_limits"
   ]
  },
  {
   "cell_type": "code",
   "execution_count": 155,
   "metadata": {},
   "outputs": [],
   "source": [
    "service = QiskitRuntimeService(\n",
    "    channel='ibm_quantum',\n",
    "    instance='ibm-q-skku/kyunghee-univers/kh-graduate',\n",
    "    token='a31caad39519f6f302e0c199c269fdf896dfd354849c28e42091c464a09318abb156bb93cb5e1f73ef095093072d01ade10d5136a7aeebf5c00a3d769a1fccac'\n",
    ")\n",
    "backend = service.backend(\"ibmq_qasm_simulator\")\n",
    "# Example usage with linear extrapolation\n",
    "fold_factors = [0,1,2,3]  # Original and 3 levels of folding\n",
    "results = run_zne(qc, backend, noise_model, fold_factors)"
   ]
  },
  {
   "cell_type": "code",
   "execution_count": 156,
   "metadata": {},
   "outputs": [
    {
     "data": {
      "text/plain": [
       "{'01': 0.24575552205871964,\n",
       " '11': 0.25765287322647207,\n",
       " '10': 0.24914852160129927,\n",
       " '00': 0.24753685371319473}"
      ]
     },
     "execution_count": 156,
     "metadata": {},
     "output_type": "execute_result"
    }
   ],
   "source": [
    "results"
   ]
  },
  {
   "cell_type": "code",
   "execution_count": 93,
   "metadata": {},
   "outputs": [],
   "source": [
    "x = np.array(list(results[0].keys())).astype(float)\n",
    "y = np.array(list(results[0].values())).astype(float)"
   ]
  },
  {
   "cell_type": "code",
   "execution_count": 9,
   "metadata": {},
   "outputs": [],
   "source": [
    "def extrapolation_func(x, a, b):\n",
    "    return a * x + b\n",
    "popt, _ = curve_fit(extrapolation_func, x, y)"
   ]
  },
  {
   "cell_type": "code",
   "execution_count": 11,
   "metadata": {},
   "outputs": [
    {
     "data": {
      "text/plain": [
       "253.7029702970297"
      ]
     },
     "execution_count": 11,
     "metadata": {},
     "output_type": "execute_result"
    }
   ],
   "source": [
    "extrapolation_func(0, *popt)"
   ]
  },
  {
   "cell_type": "code",
   "execution_count": null,
   "metadata": {},
   "outputs": [],
   "source": [
    "def extrapolate_zero_noise(results, extrapolation_method):\n",
    "    # Extract counts from results\n",
    "    counts = results.get_counts()\n",
    "\n",
    "    # Prepare data for extrapolation\n",
    "    x = np.array(list(counts.keys())).astype(float)\n",
    "    y = np.array(list(counts.values())).astype(float)\n",
    "\n",
    "    # Define extrapolation function based on the chosen method\n",
    "    if extrapolation_method == 'linear':\n",
    "        def extrapolation_func(x, a, b):\n",
    "            return a * x + b\n",
    "    elif extrapolation_method == 'polynomial':\n",
    "        def extrapolation_func(x, a, b, c):\n",
    "            return a * x**2 + b * x + c\n",
    "    elif extrapolation_method == 'exponential':\n",
    "        def extrapolation_func(x, a, b):\n",
    "            return a * np.exp(b * x)\n",
    "\n",
    "    # Fit the data to the extrapolation function\n",
    "    popt, _ = curve_fit(extrapolation_func, x, y)\n",
    "\n",
    "    # Extrapolate to zero noise\n",
    "    zero_noise_limit = extrapolation_func(0, *popt)\n",
    "\n",
    "    return zero_noise_limit"
   ]
  },
  {
   "cell_type": "code",
   "execution_count": 43,
   "metadata": {},
   "outputs": [
    {
     "data": {
      "image/png": "[encoded data removed]",
      "text/plain": [
       "<Figure size 700x500 with 1 Axes>"
      ]
     },
     "execution_count": 43,
     "metadata": {},
     "output_type": "execute_result"
    }
   ],
   "source": [
    "plot_histogram(results)"
   ]
  },
  {
   "cell_type": "code",
   "execution_count": 44,
   "metadata": {},
   "outputs": [
    {
     "name": "stdout",
     "output_type": "stream",
     "text": [
      "Linear Extrapolation Parameters: slope = 5.084745762713289e-05, intercept = 0.2531355932203389\n",
      "Extrapolated Zero-Noise Probability for '00' outcome: 0.2531355932203389\n"
     ]
    }
   ],
   "source": [
    "# Step 1: Extract the probabilities of the '00' outcome\n",
    "probabilities = [counts['00'] / sum(counts.values()) for counts in results]\n",
    "\n",
    "# Step 2: Perform Linear Extrapolation\n",
    "# Here we use numpy's polyfit to fit a linear model (degree = 1) to the data\n",
    "linear_params = linear_extrapolation(fold_factors, probabilities)\n",
    "\n",
    "# The linear_params contains two values: [slope, intercept]\n",
    "slope, intercept = linear_params\n",
    "\n",
    "# Extrapolate to zero noise\n",
    "zero_noise_prob = intercept  # Since at zero noise, the fold factor is 0, and thus y = intercept\n",
    "\n",
    "print(f\"Linear Extrapolation Parameters: slope = {slope}, intercept = {intercept}\")\n",
    "print(f\"Extrapolated Zero-Noise Probability for '00' outcome: {zero_noise_prob}\")"
   ]
  },
  {
   "cell_type": "code",
   "execution_count": 45,
   "metadata": {},
   "outputs": [
    {
     "data": {
      "text/plain": [
       "[<matplotlib.lines.Line2D at 0x7f7d9e2ce7a0>]"
      ]
     },
     "execution_count": 45,
     "metadata": {},
     "output_type": "execute_result"
    },
    {
     "data": {
      "image/png": "[encoded data removed]",
      "text/plain": [
       "<Figure size 640x480 with 1 Axes>"
      ]
     },
     "metadata": {},
     "output_type": "display_data"
    }
   ],
   "source": [
    "plt.plot(fold_factors,probabilities)"
   ]
  },
  {
   "cell_type": "code",
   "execution_count": 98,
   "metadata": {},
   "outputs": [
    {
     "name": "stdout",
     "output_type": "stream",
     "text": [
      "{'00': [0.5, 0.7], '11': [0.5, 0.3]}\n"
     ]
    }
   ],
   "source": [
    "# Given dictionaries\n",
    "dict1 = {'00': 0.5, '11': 0.5}\n",
    "dict2 = {'00': 0.7, '11': 0.3}\n",
    "\n",
    "# Combine into one dictionary, grouping by similar keys\n",
    "combined_dict = {}\n",
    "\n",
    "for key in dict1:\n",
    "    if key in dict2:\n",
    "        combined_dict[key] = [dict1[key], dict2[key]]\n",
    "\n",
    "print(combined_dict)\n"
   ]
  },
  {
   "cell_type": "code",
   "execution_count": 99,
   "metadata": {},
   "outputs": [
    {
     "name": "stdout",
     "output_type": "stream",
     "text": [
      "{'00': (0.5, 0.7), '11': (0.5, 0.3)}\n"
     ]
    }
   ],
   "source": [
    "# Combine into one dictionary, ensuring all keys are included\n",
    "for key in set(dict1.keys()).union(dict2.keys()):\n",
    "    combined_dict[key] = (dict1.get(key), dict2.get(key))\n",
    "\n",
    "print(combined_dict)\n"
   ]
  },
  {
   "cell_type": "markdown",
   "metadata": {},
   "source": [
    "ref https://github.com/albertojromerot/ZNE-Quantum-Circuit-Noise-Mitigation/tree/main"
   ]
  },
  {
   "cell_type": "code",
   "execution_count": null,
   "metadata": {},
   "outputs": [],
   "source": []
  }
 ],
 "metadata": {
  "kernelspec": {
   "display_name": "qc",
   "language": "python",
   "name": "python3"
  },
  "language_info": {
   "codemirror_mode": {
    "name": "ipython",
    "version": 3
   },
   "file_extension": ".py",
   "mimetype": "text/x-python",
   "name": "python",
   "nbconvert_exporter": "python",
   "pygments_lexer": "ipython3",
   "version": "3.10.12"
  },
  "vscode": {
   "interpreter": {
    "hash": "168ecded67a13d2a651f92ab68f47c8f8a04b0d304e9489a7d3ae7c6da1b7628"
   }
  }
 },
 "nbformat": 4,
 "nbformat_minor": 2
}
